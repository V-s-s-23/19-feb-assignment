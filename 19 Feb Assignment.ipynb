{
 "cells": [
  {
   "cell_type": "markdown",
   "id": "13a9038f",
   "metadata": {},
   "source": [
    "# Q1. What is Flask Framework? What are the advantages of Flask Framework?\n",
    "## Answer:- Flask is a micro web framework for Python that allows developers to build web applications quickly and easily. \n",
    "## Advantages => It is lightweight and flexible, and provides a simple yet powerful set of tools for creating web applications Flask is a micro web framework for Python that allows developers to build web applications quickly and easily. It is lightweight and flexible, and provides a simple yet powerful set of tools for creating web applications"
   ]
  },
  {
   "cell_type": "code",
   "execution_count": null,
   "id": "20a661bb",
   "metadata": {},
   "outputs": [],
   "source": []
  },
  {
   "cell_type": "markdown",
   "id": "fcde2658",
   "metadata": {},
   "source": [
    "# Q2. Create a simple Flask application to display ‘Hello World!!’. Attach the screenshot of the output inJupyter Notebook."
   ]
  },
  {
   "cell_type": "markdown",
   "id": "d2146da5",
   "metadata": {},
   "source": [
    "<img src='Screenshot.png'>"
   ]
  },
  {
   "cell_type": "code",
   "execution_count": null,
   "id": "2aa1924c",
   "metadata": {},
   "outputs": [],
   "source": []
  },
  {
   "cell_type": "markdown",
   "id": "8c4591f0",
   "metadata": {},
   "source": [
    "# Q3. What is App routing in Flask? Why do we use app routes?\n",
    "## Answer:- In Flask, an app route is a URL path that is associated with a function in application. When a user requests a URL that matches a registered app route, Flask calls the associated function and returns its response to the user. App routing in Flask is important because it allows to define how your application will respond to user requests for different URLs. By registering different app routes"
   ]
  },
  {
   "cell_type": "code",
   "execution_count": null,
   "id": "c1459b7e",
   "metadata": {},
   "outputs": [],
   "source": []
  },
  {
   "cell_type": "markdown",
   "id": "b4e5ff0f",
   "metadata": {},
   "source": [
    "# Q4. Create a “/welcome” route to display the welcome message “Welcome to ABC Corporation” and a “/” route to show the following details:\n",
    "## Company Name: ABC Corporation\n",
    "## Location: India\n",
    "## Contact Detail: 999-999-9999"
   ]
  },
  {
   "cell_type": "markdown",
   "id": "728c1386",
   "metadata": {},
   "source": [
    "<img src=\"Screenshot 3.png\">\n",
    "\n",
    "<img src=\"Screenshot 2.png\">"
   ]
  },
  {
   "cell_type": "code",
   "execution_count": null,
   "id": "27b07a5e",
   "metadata": {},
   "outputs": [],
   "source": []
  },
  {
   "cell_type": "markdown",
   "id": "891db533",
   "metadata": {},
   "source": [
    "# Q5. What function is used in Flask for URL Building? Write a Python code to demonstrate the working of the url_for() function.\n",
    "## Answer :- In Flask, the url_for() function is used for URL building. It generates a URL for the specified endpoint with the given method arguments."
   ]
  },
  {
   "cell_type": "code",
   "execution_count": 9,
   "id": "20f2f079",
   "metadata": {},
   "outputs": [
    {
     "data": {
      "text/plain": [
       "'\\nfrom flask import Flask, url_for\\n\\napp = Flask(__name__)\\n\\n@app.route(\\'/\\')\\ndef index():\\n    # generate a URL for the \\'about\\' endpoint\\n    about_url = url_for(\\'about\\')\\n    return f\\'Visit the <a href=\"{about_url}\">About</a> page.\\'\\n\\n@app.route(\\'/about\\')\\ndef about():\\n    return \\'This is the About page.\\'\\n\\nif __name__ == \\'__main__\\':\\n    app.run()\\n'"
      ]
     },
     "execution_count": 9,
     "metadata": {},
     "output_type": "execute_result"
    }
   ],
   "source": [
    "# Example code \n",
    "\"\"\"\n",
    "from flask import Flask, url_for\n",
    "\n",
    "app = Flask(__name__)\n",
    "\n",
    "@app.route('/')\n",
    "def index():\n",
    "    # generate a URL for the 'about' endpoint\n",
    "    about_url = url_for('about')\n",
    "    return f'Visit the <a href=\"{about_url}\">About</a> page.'\n",
    "\n",
    "@app.route('/about')\n",
    "def about():\n",
    "    return 'This is the About page.'\n",
    "\n",
    "if __name__ == '__main__':\n",
    "    app.run()\n",
    "\"\"\""
   ]
  },
  {
   "cell_type": "code",
   "execution_count": null,
   "id": "d49c343f",
   "metadata": {},
   "outputs": [],
   "source": []
  }
 ],
 "metadata": {
  "kernelspec": {
   "display_name": "Python 3 (ipykernel)",
   "language": "python",
   "name": "python3"
  },
  "language_info": {
   "codemirror_mode": {
    "name": "ipython",
    "version": 3
   },
   "file_extension": ".py",
   "mimetype": "text/x-python",
   "name": "python",
   "nbconvert_exporter": "python",
   "pygments_lexer": "ipython3",
   "version": "3.9.12"
  }
 },
 "nbformat": 4,
 "nbformat_minor": 5
}
